{
  "nbformat": 4,
  "nbformat_minor": 0,
  "metadata": {
    "colab": {
      "provenance": [],
      "authorship_tag": "ABX9TyOXhikRNMojI3kuD39AsYLU",
      "include_colab_link": true
    },
    "kernelspec": {
      "name": "python3",
      "display_name": "Python 3"
    },
    "language_info": {
      "name": "python"
    }
  },
  "cells": [
    {
      "cell_type": "markdown",
      "metadata": {
        "id": "view-in-github",
        "colab_type": "text"
      },
      "source": [
        "<a href=\"https://colab.research.google.com/github/yaroshmv/CHARP-Task1/blob/main/Colab_yarosh.ipynb\" target=\"_parent\"><img src=\"https://colab.research.google.com/assets/colab-badge.svg\" alt=\"Open In Colab\"/></a>"
      ]
    },
    {
      "cell_type": "code",
      "execution_count": null,
      "metadata": {
        "id": "T3jdpjDfRHu6"
      },
      "outputs": [],
      "source": [
        "import pandas as pd\n",
        "import random\n",
        "lst = ['robot'] * 10\n",
        "lst += ['human'] * 10\n",
        "random.shuffle(lst)\n",
        "data = pd.DataFrame({'whoAmI':lst})\n",
        "data.loc[data['whoAmI'] == 'robot', 'robot_group'] = '1'\n",
        "data.loc[data['whoAmI'] != 'robot', 'robot_group'] = '0'\n",
        "data.loc[data['whoAmI'] == 'human', 'human_group'] = '1'\n",
        "data.loc[data['whoAmI'] != 'human', 'human_group'] = '0'"
      ]
    }
  ]
}